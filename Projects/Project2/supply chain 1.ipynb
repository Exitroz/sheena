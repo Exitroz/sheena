{
 "cells": [
  {
   "cell_type": "code",
   "execution_count": 1,
   "metadata": {},
   "outputs": [
    {
     "name": "stdout",
     "output_type": "stream",
     "text": [
      "     Demand  Unnamed: 1 Summary Statistics   Unnamed: 3 Unnamed: 4\n",
      "0     19283         NaN                NaN          NaN        NaN\n",
      "1     18488         NaN            Average     19999.71        NaN\n",
      "2     18653         NaN              Stdev  2000.195172        NaN\n",
      "3     21183         NaN                Min        14986        NaN\n",
      "4     21337         NaN                Max        25416        NaN\n",
      "..      ...         ...                ...          ...        ...\n",
      "495   20704         NaN                NaN          NaN        NaN\n",
      "496   22824         NaN                NaN          NaN        NaN\n",
      "497   22398         NaN                NaN          NaN        NaN\n",
      "498   21751         NaN                NaN          NaN        NaN\n",
      "499   17263         NaN                NaN          NaN        NaN\n",
      "\n",
      "[500 rows x 5 columns]\n"
     ]
    }
   ],
   "source": [
    "import pandas as pd\n",
    "df = pd.read_excel('MGTA456_BookDemand_Analysis1.xlsx')\n",
    "print(df)\n"
   ]
  },
  {
   "cell_type": "code",
   "execution_count": 3,
   "metadata": {},
   "outputs": [
    {
     "name": "stdout",
     "output_type": "stream",
     "text": [
      "Cost of understocking (Cu): 20\n",
      "Cost of overstocking (Co): 2\n",
      "Target service level: 0.909\n",
      "Optimal order quantity (Q): 21824\n",
      "Average profit: 392162.79\n"
     ]
    }
   ],
   "source": [
    "import numpy as np\n",
    "import pandas as pd\n",
    "\n",
    "# Input parameters\n",
    "retail_price = 22\n",
    "printing_cost = 2\n",
    "salvage_value = 0\n",
    "optimal_order_quantity = 21824\n",
    "\n",
    "# Calculate cost of understocking and overstocking\n",
    "cost_of_understocking = retail_price - printing_cost\n",
    "cost_of_overstocking = printing_cost - salvage_value\n",
    "\n",
    "# Calculate target service level\n",
    "target_service_level = cost_of_understocking / (cost_of_understocking + cost_of_overstocking)\n",
    "\n",
    "# Read demand data from Excel file\n",
    "demand_data = pd.read_excel('MGTA456_BookDemand_Analysis1.xlsx', usecols=[0], skiprows=1, nrows=500, names=['Demand'])\n",
    "\n",
    "# Calculate profit for each demand scenario\n",
    "def calculate_profit(demand):\n",
    "    if demand < optimal_order_quantity:\n",
    "        return (retail_price - printing_cost) * demand - (printing_cost * (optimal_order_quantity - demand))\n",
    "    else:\n",
    "        return (retail_price - printing_cost) * optimal_order_quantity\n",
    "\n",
    "# Calculate profits for all demand scenarios\n",
    "profits = demand_data['Demand'].apply(calculate_profit)\n",
    "\n",
    "# Calculate average profit\n",
    "average_profit = profits.mean()\n",
    "\n",
    "# Print results\n",
    "print(f\"Cost of understocking (Cu): {cost_of_understocking}\")\n",
    "print(f\"Cost of overstocking (Co): {cost_of_overstocking}\")\n",
    "print(f\"Target service level: {target_service_level:.3f}\")\n",
    "print(f\"Optimal order quantity (Q): {optimal_order_quantity}\")\n",
    "print(f\"Average profit: {average_profit:.2f}\")"
   ]
  },
  {
   "cell_type": "code",
   "execution_count": 4,
   "metadata": {},
   "outputs": [
    {
     "name": "stdout",
     "output_type": "stream",
     "text": [
      "Cost of understocking (Cu): 20\n",
      "Cost of overstocking (Co): 2\n",
      "Target service level: 0.909\n",
      "Optimal order quantity (Q): 22674\n",
      "Average profit: 393133.28\n"
     ]
    }
   ],
   "source": [
    "import numpy as np\n",
    "import pandas as pd\n",
    "from scipy.stats import norm\n",
    "\n",
    "# Input parameters\n",
    "retail_price = 22\n",
    "printing_cost = 2\n",
    "salvage_value = 0\n",
    "\n",
    "# Calculate cost of understocking and overstocking\n",
    "cost_of_understocking = retail_price - printing_cost\n",
    "cost_of_overstocking = printing_cost - salvage_value\n",
    "\n",
    "# Calculate target service level\n",
    "target_service_level = cost_of_understocking / (cost_of_understocking + cost_of_overstocking)\n",
    "\n",
    "# Read demand data from Excel file\n",
    "demand_data = pd.read_excel('MGTA456_BookDemand_Analysis1.xlsx', usecols=[0], skiprows=1, nrows=500, names=['Demand'])\n",
    "\n",
    "# Calculate mean and standard deviation of demand\n",
    "mean_demand = demand_data['Demand'].mean()\n",
    "std_demand = demand_data['Demand'].std()\n",
    "\n",
    "# Calculate optimal order quantity using the newsvendor model\n",
    "optimal_order_quantity = norm.ppf(target_service_level, loc=mean_demand, scale=std_demand)\n",
    "\n",
    "# Calculate profit for each demand scenario\n",
    "def calculate_profit(demand):\n",
    "    if demand < optimal_order_quantity:\n",
    "        return (retail_price - printing_cost) * demand - (printing_cost * (optimal_order_quantity - demand))\n",
    "    else:\n",
    "        return (retail_price - printing_cost) * optimal_order_quantity\n",
    "\n",
    "# Calculate profits for all demand scenarios\n",
    "profits = demand_data['Demand'].apply(calculate_profit)\n",
    "\n",
    "# Calculate average profit\n",
    "average_profit = profits.mean()\n",
    "\n",
    "# Print results\n",
    "print(f\"Cost of understocking (Cu): {cost_of_understocking}\")\n",
    "print(f\"Cost of overstocking (Co): {cost_of_overstocking}\")\n",
    "print(f\"Target service level: {target_service_level:.3f}\")\n",
    "print(f\"Optimal order quantity (Q): {optimal_order_quantity:.0f}\")\n",
    "print(f\"Average profit: {average_profit:.2f}\")"
   ]
  },
  {
   "cell_type": "markdown",
   "metadata": {},
   "source": [
    "As the manager of the entire supply chain, including both the publisher (Scribner) and the bookstore (BN), we need to consider the combined costs and profits across the entire chain.\n",
    "\n",
    "The cost of understocking (Cu) in this context represents the opportunity cost or lost revenue when demand exceeds the order quantity. It includes the difference between the retail price and the wholesale price, as well as any associated costs incurred due to stockouts. Similarly, the cost of overstocking (Co) includes the costs associated with excess inventory, such as the difference between the wholesale price and the buy-back price.\n",
    "\n",
    "To calculate the combined cost of understocking and overstocking for the supply chain, we need to consider the costs and profits for both the publisher and the bookstore. Additionally, we need to determine the target service level of the supply chain, which represents the desired probability of not running out of stock across both entities.\n",
    "\n",
    "Based on the historical demand data and the newsvendor model, we can calculate the optimal order quantity for the supply chain. This quantity represents the number of books that should be printed to balance the risks of understocking and overstocking while maximizing the expected profit for the entire chain.\n",
    "\n",
    "Once we have determined the optimal order quantity, we can calculate the average profit for the supply chain. This involves considering the revenue from sales at the retail price, the costs of printing and acquiring the books, and any buy-back revenues for unsold books.\n",
    "\n",
    "By managing the entire supply chain, we can optimize the pricing strategy and inventory management practices to maximize the overall profitability of Scribner and BN. This integrated approach allows us to align the interests of both entities and efficiently meet customer demand while minimizing costs and maximizing profits across the entire chain."
   ]
  },
  {
   "cell_type": "code",
   "execution_count": 5,
   "metadata": {},
   "outputs": [
    {
     "name": "stdout",
     "output_type": "stream",
     "text": [
      "Current wholesale price: 14.00\n",
      "Current buy-back price: 12.00\n",
      "Current bookstore profit: 181109.59\n",
      "Current publisher profit: 237368.12\n",
      "\n",
      "Best wholesale price: 14.60\n",
      "Best buy-back price: 13.90\n",
      "Best bookstore profit: 186361.16\n",
      "Best publisher profit: 247567.31\n"
     ]
    }
   ],
   "source": [
    "import numpy as np\n",
    "import pandas as pd\n",
    "from scipy.stats import norm\n",
    "\n",
    "# Read demand data from Excel file\n",
    "demand_data = pd.read_excel('MGTA456_BookDemand_Analysis1.xlsx', usecols=[0], skiprows=1, nrows=500, names=['Demand'])\n",
    "\n",
    "# Calculate mean and standard deviation of demand\n",
    "mean_demand = demand_data['Demand'].mean()\n",
    "std_demand = demand_data['Demand'].std()\n",
    "\n",
    "# Input parameters\n",
    "retail_price = 22\n",
    "printing_cost = 2\n",
    "current_wholesale_price = 14\n",
    "current_buyback_price = 12\n",
    "\n",
    "# Function to calculate the optimal order quantity for the bookstore\n",
    "def calculate_optimal_order_quantity(wholesale_price, buyback_price):\n",
    "    cost_of_understocking = retail_price - wholesale_price\n",
    "    cost_of_overstocking = wholesale_price - buyback_price\n",
    "    target_service_level = cost_of_understocking / (cost_of_understocking + cost_of_overstocking)\n",
    "    return norm.ppf(target_service_level, loc=mean_demand, scale=std_demand)\n",
    "\n",
    "# Function to calculate the expected profit for the bookstore\n",
    "def calculate_bookstore_profit(wholesale_price, buyback_price, order_quantity):\n",
    "    expected_sales = np.minimum(order_quantity, demand_data['Demand'])\n",
    "    expected_profit = (retail_price - wholesale_price) * expected_sales.mean() + buyback_price * (order_quantity - expected_sales).mean()\n",
    "    return expected_profit\n",
    "\n",
    "# Function to calculate the expected profit for the publisher\n",
    "def calculate_publisher_profit(wholesale_price, buyback_price, order_quantity):\n",
    "    expected_sales = np.minimum(order_quantity, demand_data['Demand'])\n",
    "    expected_profit = (wholesale_price - printing_cost) * order_quantity - buyback_price * (order_quantity - expected_sales).mean()\n",
    "    return expected_profit\n",
    "\n",
    "# Calculate the current expected profits for the bookstore and the publisher\n",
    "current_order_quantity = calculate_optimal_order_quantity(current_wholesale_price, current_buyback_price)\n",
    "current_bookstore_profit = calculate_bookstore_profit(current_wholesale_price, current_buyback_price, current_order_quantity)\n",
    "current_publisher_profit = calculate_publisher_profit(current_wholesale_price, current_buyback_price, current_order_quantity)\n",
    "\n",
    "# Search for a better price combination\n",
    "best_wholesale_price = None\n",
    "best_buyback_price = None\n",
    "best_bookstore_profit = current_bookstore_profit\n",
    "best_publisher_profit = current_publisher_profit\n",
    "\n",
    "for wholesale_price in np.arange(13, 16, 0.1):\n",
    "    for buyback_price in np.arange(11, 14, 0.1):\n",
    "        order_quantity = calculate_optimal_order_quantity(wholesale_price, buyback_price)\n",
    "        bookstore_profit = calculate_bookstore_profit(wholesale_price, buyback_price, order_quantity)\n",
    "        publisher_profit = calculate_publisher_profit(wholesale_price, buyback_price, order_quantity)\n",
    "        \n",
    "        if bookstore_profit > best_bookstore_profit and publisher_profit > best_publisher_profit:\n",
    "            best_wholesale_price = wholesale_price\n",
    "            best_buyback_price = buyback_price\n",
    "            best_bookstore_profit = bookstore_profit\n",
    "            best_publisher_profit = publisher_profit\n",
    "\n",
    "# Print the results\n",
    "print(f\"Current wholesale price: {current_wholesale_price:.2f}\")\n",
    "print(f\"Current buy-back price: {current_buyback_price:.2f}\")\n",
    "print(f\"Current bookstore profit: {current_bookstore_profit:.2f}\")\n",
    "print(f\"Current publisher profit: {current_publisher_profit:.2f}\")\n",
    "print()\n",
    "print(f\"Best wholesale price: {best_wholesale_price:.2f}\")\n",
    "print(f\"Best buy-back price: {best_buyback_price:.2f}\")\n",
    "print(f\"Best bookstore profit: {best_bookstore_profit:.2f}\")\n",
    "print(f\"Best publisher profit: {best_publisher_profit:.2f}\")"
   ]
  },
  {
   "cell_type": "markdown",
   "metadata": {},
   "source": [
    "In the context of the case study discussed in class, where the bookstore, BN, operates independently from the publisher, we aim to optimize the pricing strategy to benefit both parties. As the bookstore owner, decisions regarding the quantity of books to order are crucial, considering factors such as wholesale price and buy-back price. The buy-back contract, with a set buy-back price of $12, serves as a reference point for our analysis.\n",
    "\n",
    "Utilizing historical demand data and leveraging the provided Python script, we sought to identify a pair of wholesale and buy-back prices that would improve the profitability of both the bookstore and the publisher compared to the current wholesale price of $14 and buy-back price of $12.\n",
    "\n",
    "By iterating over various combinations of wholesale and buy-back prices, adjusting the wholesale price to $14.60 and the buy-back price to $13.90 would result in enhanced profitability for both parties. This optimization led to an increase in expected profits for both the bookstore and the publisher.\n",
    "\n",
    "Insights:\n",
    "\n",
    "Data-Driven Decision Making: The analysis underscores the importance of utilizing historical demand data to inform pricing decisions. By incorporating data-driven insights, we can identify opportunities to optimize pricing strategies and improve profitability.\n",
    "Win-Win Scenario: The findings demonstrate that adjusting the pricing strategy can create a win-win scenario for both the bookstore and the publisher. By aligning incentives and optimizing pricing parameters, both parties can benefit from increased profitability.\n",
    "Supply Chain Dynamics: The case study highlights the interconnected nature of supply chain dynamics between the bookstore and the publisher. Optimizing pricing strategies requires considering the implications for both parties and finding mutually beneficial solutions.\n"
   ]
  },
  {
   "cell_type": "code",
   "execution_count": null,
   "metadata": {},
   "outputs": [],
   "source": []
  }
 ],
 "metadata": {
  "kernelspec": {
   "display_name": "base",
   "language": "python",
   "name": "python3"
  },
  "language_info": {
   "codemirror_mode": {
    "name": "ipython",
    "version": 3
   },
   "file_extension": ".py",
   "mimetype": "text/x-python",
   "name": "python",
   "nbconvert_exporter": "python",
   "pygments_lexer": "ipython3",
   "version": "3.11.7"
  }
 },
 "nbformat": 4,
 "nbformat_minor": 2
}
